{
 "cells": [
  {
   "cell_type": "markdown",
   "metadata": {},
   "source": [
    "## Week 1:\n",
    "- defining functions\n",
    "- basic expressions\n",
    "- pattern matching\n",
    "- recursion\n",
    "\n",
    "Exercises are notated with \"Ex\" followed by a number. Write your solution to the code cell followed by the problem definition. Solutions can be run by pressing Ctrl+Enter on an active code cell."
   ]
  },
  {
   "cell_type": "markdown",
   "metadata": {},
   "source": [
    "#### Ex 1: \n",
    "Define variables one, two and three. They should all have type Int and values 1, 2 and 3. This exercise has no tests."
   ]
  },
  {
   "cell_type": "code",
   "execution_count": null,
   "metadata": {},
   "outputs": [],
   "source": []
  },
  {
   "cell_type": "markdown",
   "metadata": {},
   "source": [
    "#### Ex 2: \n",
    "Define the function double of type Integer->Integer. Double\n",
    "should take one argument and return it multiplied by two."
   ]
  },
  {
   "cell_type": "code",
   "execution_count": 30,
   "metadata": {},
   "outputs": [],
   "source": [
    "double :: Integer -> Integer\n",
    "double x = undefined"
   ]
  },
  {
   "cell_type": "markdown",
   "metadata": {},
   "source": [
    "#### Ex 3:\n",
    "Define the function quadruple that uses the function double from the previous exercise to return its argument multiplied by four."
   ]
  },
  {
   "cell_type": "code",
   "execution_count": 31,
   "metadata": {},
   "outputs": [],
   "source": [
    "quadruple :: Integer -> Integer\n",
    "quadruple x = undefined"
   ]
  },
  {
   "cell_type": "markdown",
   "metadata": {},
   "source": [
    "#### Ex 4:\n",
    "Define the function poly2. It should take four arguments of type Double, a, b, c, and x and return a*x^2+b*x+c. Give poly2 a type signature, i.e. poly2 :: something."
   ]
  },
  {
   "cell_type": "code",
   "execution_count": 32,
   "metadata": {},
   "outputs": [],
   "source": [
    "poly2 = undefined"
   ]
  },
  {
   "cell_type": "markdown",
   "metadata": {},
   "source": [
    "#### Ex 5:\n",
    "Define the function eeny that returns \"eeny\" for even inputs and \"meeny\" for odd inputs.\n",
    "\n",
    "Ps. have a look at the built in function \"even\""
   ]
  },
  {
   "cell_type": "code",
   "execution_count": 33,
   "metadata": {
    "collapsed": true
   },
   "outputs": [],
   "source": [
    "eeny :: Integer -> String\n",
    "eeny = undefined"
   ]
  },
  {
   "cell_type": "markdown",
   "metadata": {},
   "source": [
    "#### Ex 6: \n",
    "fizzbuzz! Define the a function fizzbuzz that returns \"Fizz\" for numbers divisible by 3, \"Buzz\" for numbers divisible by 5, and \"FizzBuzz\" for numbers divisible by both. For other numbers it returns the empty string.\n",
    "\n",
    "You can use the function mod to compute modulo.\n"
   ]
  },
  {
   "cell_type": "code",
   "execution_count": 34,
   "metadata": {
    "collapsed": true
   },
   "outputs": [],
   "source": [
    "fizzbuzz = undefined"
   ]
  },
  {
   "cell_type": "markdown",
   "metadata": {},
   "source": [
    "#### Ex 7:\n",
    "Define a function isZero that returns True if it is given an Integer that is 0, and False otherwise. Give isZero a type signature.\n",
    "\n",
    "Use pattern matching! Don't use comparisons!\n",
    "\n",
    "Ps. the type of booleans in haskell is Bool"
   ]
  },
  {
   "cell_type": "code",
   "execution_count": 35,
   "metadata": {
    "collapsed": true
   },
   "outputs": [],
   "source": [
    "isZero = undefined"
   ]
  },
  {
   "cell_type": "markdown",
   "metadata": {},
   "source": [
    "#### Ex 8:\n",
    "Implement using recursion a function sumTo such that  \n",
    "```\n",
    "sumTo n\n",
    "```\n",
    "computes the sum 1+2+...+n"
   ]
  },
  {
   "cell_type": "code",
   "execution_count": 36,
   "metadata": {
    "collapsed": true
   },
   "outputs": [],
   "source": [
    "sumTo :: Integer -> Integer\n",
    "sumTo = undefined"
   ]
  },
  {
   "cell_type": "markdown",
   "metadata": {},
   "source": [
    "#### Ex 9:\n",
    "Power n k should compute n to the power k (i.e. n^k)\n",
    "Use recursion."
   ]
  },
  {
   "cell_type": "code",
   "execution_count": 37,
   "metadata": {
    "collapsed": true
   },
   "outputs": [],
   "source": [
    "power :: Integer -> Integer -> Integer\n",
    "power = undefined"
   ]
  },
  {
   "cell_type": "markdown",
   "metadata": {},
   "source": [
    "#### Ex 10:\n",
    "ilog2 n should be the number of times you can halve the integer n (rounding down) before you get 1.\n",
    "\n",
    "Use recursion to define ilog2. Use the function \"div\" for integer division."
   ]
  },
  {
   "cell_type": "code",
   "execution_count": 38,
   "metadata": {
    "collapsed": true
   },
   "outputs": [],
   "source": [
    "ilog2 :: Integer -> Integer\n",
    "ilog2 = undefined"
   ]
  },
  {
   "cell_type": "markdown",
   "metadata": {},
   "source": [
    "#### Ex 11:\n",
    "Compute binomial coefficients using recursion. Binomial coefficients are defined by the following equations:\n",
    "```\n",
    "  B(n,k) = B(n-1,k) + B(n-1,k-1)\n",
    "  B(n,0) = 1\n",
    "  B(0,k) = 0, when k>0\n",
    "```\n",
    "Hint! pattern matching is your friend."
   ]
  },
  {
   "cell_type": "code",
   "execution_count": 39,
   "metadata": {
    "collapsed": true
   },
   "outputs": [],
   "source": [
    "binomial :: Integer -> Integer -> Integer\n",
    "binomial = undefined"
   ]
  },
  {
   "cell_type": "markdown",
   "metadata": {},
   "source": [
    "#### Ex 12:\n",
    "The tribonacci numbers are defined by the equations\n",
    "```\n",
    "T(1) = 1\n",
    "T(2) = 1\n",
    "T(3) = 2\n",
    "T(n+1) = T(n)+T(n-1)+T(n-2)\n",
    "```\n",
    "Implement an efficient, linear time, recursive function that computes T(n). You'll probably want to define a helper function."
   ]
  },
  {
   "cell_type": "code",
   "execution_count": 40,
   "metadata": {
    "collapsed": true
   },
   "outputs": [],
   "source": [
    "tribonacci :: Integer -> Integer\n",
    "tribonacci = undefined"
   ]
  },
  {
   "cell_type": "markdown",
   "metadata": {},
   "source": [
    "#### Ex 13:\n",
    "Implement the euclidean algorithm for finding the greatest common divisor: http://en.wikipedia.org/wiki/Euclidean_algorithm"
   ]
  },
  {
   "cell_type": "code",
   "execution_count": 41,
   "metadata": {
    "collapsed": true
   },
   "outputs": [],
   "source": [
    "myGcd :: Integer -> Integer -> Integer\n",
    "myGcd = undefined"
   ]
  },
  {
   "cell_type": "markdown",
   "metadata": {},
   "source": [
    "#### Ex 14:\n",
    "The Haskell Prelude (standard library) defines the type Ordering with values LT, GT and EQ. You try out Ordering by evaluating the following expressions:\n",
    "```\n",
    "compare 3 4\n",
    "compare 4 3\n",
    "compare 0 0\n",
    "compare \"Hei\" \"Moi\"\n",
    "compare True False\n",
    "```\n",
    "Your task is to implement the function funnyCompare, that orders\n",
    "integers in the following way:\n",
    "\n",
    " 1. All even numbers come before odd numbers\n",
    " 2. Within even and odd numbers the ordering is normal"
   ]
  },
  {
   "cell_type": "code",
   "execution_count": 42,
   "metadata": {
    "collapsed": true
   },
   "outputs": [],
   "source": [
    "funnyCompare :: Int -> Int -> Ordering\n",
    "funnyCompare = undefined"
   ]
  },
  {
   "cell_type": "markdown",
   "metadata": {},
   "source": [
    "#### Ex 15:\n",
    "Implement the function funnyMin that returns the minimum of its two arguments, according to the ordering implemented by funnyCompare.\n",
    "\n",
    "Use pattern matching on the Ordering value returned by funnyCompare. To do this, you need to either use the case-of expression or define a helper function."
   ]
  },
  {
   "cell_type": "code",
   "execution_count": 43,
   "metadata": {
    "collapsed": true
   },
   "outputs": [],
   "source": [
    "funnyMin :: Int -> Int -> Int\n",
    "funnyMin = undefined"
   ]
  },
  {
   "cell_type": "markdown",
   "metadata": {},
   "source": [
    "#### Ex 16:\n",
    "Implement the recursive function pyramid that returns strings like this:\n",
    "```\n",
    "pyramid 0 ==> \"0\"\n",
    "pyramid 1 ==> \"0,1,0\"\n",
    "pyramid 2 ==> \"0,1,2,1,0\"\n",
    "pyramid 3 ==> \"0,1,2,3,2,1,0\"\n",
    "```\n",
    "Hints:\n",
    "* you can glue strings together with the operator ++\n",
    "* the function show transforms a number into a string\n",
    "* you'll need a (recursive) helper function"
   ]
  },
  {
   "cell_type": "code",
   "execution_count": 44,
   "metadata": {
    "collapsed": true
   },
   "outputs": [],
   "source": [
    "pyramid :: Integer -> String\n",
    "pyramid = undefined"
   ]
  },
  {
   "cell_type": "markdown",
   "metadata": {},
   "source": [
    "#### Ex 17:\n",
    "Implement the function smallestDivisor that returns the smallest number (greater than 1) that divides the given number.\n",
    "\n",
    "That is, when\n",
    "```\n",
    "smallestDivisor n ==> k\n",
    "```\n",
    "we have\n",
    "```\n",
    "n = t*k\n",
    "```\n",
    "for some t.\n",
    "\n",
    "Ps. your function doesn't need to work for inputs 0 and 1, but\n",
    "remember this in the next exercise!"
   ]
  },
  {
   "cell_type": "code",
   "execution_count": 45,
   "metadata": {
    "collapsed": true
   },
   "outputs": [],
   "source": [
    "smallestDivisor :: Integer -> Integer\n",
    "smallestDivisor = undefined"
   ]
  },
  {
   "cell_type": "markdown",
   "metadata": {},
   "source": [
    "#### Ex 18:\n",
    "Implement a function isPrime that checks if the given number is a prime number. Use the function smallestDivisor.\n",
    "\n",
    "Ps. 0 and 1 are not prime numbers"
   ]
  },
  {
   "cell_type": "code",
   "execution_count": 46,
   "metadata": {
    "collapsed": true
   },
   "outputs": [],
   "source": [
    "isPrime :: Integer -> Bool\n",
    "isPrime = undefined"
   ]
  },
  {
   "cell_type": "markdown",
   "metadata": {},
   "source": [
    "#### Ex 19:\n",
    "Implement a function nextPrime that returns the first prime number that comes after the given number. Use the function isPrime you just defined."
   ]
  },
  {
   "cell_type": "code",
   "execution_count": 47,
   "metadata": {
    "collapsed": true
   },
   "outputs": [],
   "source": [
    "nextPrime :: Integer -> Integer\n",
    "nextPrime = undefined"
   ]
  }
 ],
 "metadata": {
  "kernelspec": {
   "display_name": "Haskell",
   "language": "haskell",
   "name": "haskell"
  },
  "language_info": {
   "codemirror_mode": "ihaskell",
   "file_extension": ".hs",
   "name": "haskell",
   "version": "8.0.2"
  }
 },
 "nbformat": 4,
 "nbformat_minor": 2
}
